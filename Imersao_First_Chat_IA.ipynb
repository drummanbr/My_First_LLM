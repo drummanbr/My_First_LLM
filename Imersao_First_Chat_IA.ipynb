{
  "nbformat": 4,
  "nbformat_minor": 0,
  "metadata": {
    "colab": {
      "provenance": [],
      "toc_visible": true,
      "authorship_tag": "ABX9TyN/n0dYuH5JNmMW0rHi7vnG",
      "include_colab_link": true
    },
    "kernelspec": {
      "name": "python3",
      "display_name": "Python 3"
    },
    "language_info": {
      "name": "python"
    }
  },
  "cells": [
    {
      "cell_type": "markdown",
      "metadata": {
        "id": "view-in-github",
        "colab_type": "text"
      },
      "source": [
        "<a href=\"https://colab.research.google.com/github/drummanbr/My_First_LLM/blob/main/Imersao_First_Chat_IA.ipynb\" target=\"_parent\"><img src=\"https://colab.research.google.com/assets/colab-badge.svg\" alt=\"Open In Colab\"/></a>"
      ]
    },
    {
      "cell_type": "markdown",
      "source": [
        "Instalando o SDK do Google"
      ],
      "metadata": {
        "id": "jQIAyUxvOnBU"
      }
    },
    {
      "cell_type": "code",
      "execution_count": null,
      "metadata": {
        "id": "bC0yMc2AOg4F"
      },
      "outputs": [],
      "source": [
        "!pip install -q -U google-generativeai"
      ]
    },
    {
      "cell_type": "code",
      "source": [
        "# Import the Python SDK\n",
        "import google.generativeai as genai\n",
        "\n",
        "GOOGLE_API_KEY=userdata.get('GOOGLE_API_KEY')\n",
        "genai.configure(api_key=GOOGLE_API_KEY)"
      ],
      "metadata": {
        "id": "mftSXmh9O1UK"
      },
      "execution_count": null,
      "outputs": []
    },
    {
      "cell_type": "markdown",
      "source": [
        "Listar os modelos disponíveis"
      ],
      "metadata": {
        "id": "ZSnDV5lsPBvj"
      }
    },
    {
      "cell_type": "code",
      "source": [
        "for m in genai.list_models():\n",
        "  if 'generateContent' in m.supported_generation_methods:\n",
        "    print(m.name)"
      ],
      "metadata": {
        "colab": {
          "base_uri": "https://localhost:8080/",
          "height": 139
        },
        "id": "5f7qCKwdO-Jg",
        "outputId": "9627d6b3-707d-4190-cba1-a3bfa8c02abb"
      },
      "execution_count": null,
      "outputs": [
        {
          "output_type": "stream",
          "name": "stdout",
          "text": [
            "models/gemini-1.0-pro\n",
            "models/gemini-1.0-pro-001\n",
            "models/gemini-1.0-pro-latest\n",
            "models/gemini-1.0-pro-vision-latest\n",
            "models/gemini-1.5-pro-latest\n",
            "models/gemini-pro\n",
            "models/gemini-pro-vision\n"
          ]
        }
      ]
    },
    {
      "cell_type": "markdown",
      "source": [
        "Configurando o modelo"
      ],
      "metadata": {
        "id": "LLgyaJdrS2Ao"
      }
    },
    {
      "cell_type": "code",
      "source": [
        "generation_config = {\n",
        "    \"candidate_count\": 1,\n",
        "    \"temperature\": 0.5,\n",
        "}"
      ],
      "metadata": {
        "id": "mamuJOO0Q_ad"
      },
      "execution_count": null,
      "outputs": []
    },
    {
      "cell_type": "code",
      "source": [
        "safety_settings = {\n",
        "    \"Harassment\": \"Block_None\",\n",
        "    \"Hate\": \"Block_None\",\n",
        "    \"Sexual\": \"Block_None\",\n",
        "    \"Dangerous\": \"Block_None\",\n",
        "\n",
        "}"
      ],
      "metadata": {
        "id": "jwIIMm27Rq0y"
      },
      "execution_count": null,
      "outputs": []
    },
    {
      "cell_type": "markdown",
      "source": [
        "Iniciando o modelo"
      ],
      "metadata": {
        "id": "3djWSLb7S748"
      }
    },
    {
      "cell_type": "code",
      "source": [
        "model = genai.GenerativeModel(model_name=\"gemini-1.0-pro\", generation_config=generation_config, safety_settings=safety_settings)"
      ],
      "metadata": {
        "id": "Tgyd-VjFS99K"
      },
      "execution_count": null,
      "outputs": []
    },
    {
      "cell_type": "markdown",
      "source": [
        "Criando o response"
      ],
      "metadata": {
        "id": "KVQ1aV45Tzms"
      }
    },
    {
      "cell_type": "code",
      "source": [
        "response = model.generate_content(\"Me mostre de forma resumida a historia da IA até a data de hoje\")\n",
        "print(response.text)"
      ],
      "metadata": {
        "colab": {
          "base_uri": "https://localhost:8080/",
          "height": 659
        },
        "id": "nQ4MN12jTuUo",
        "outputId": "ebb0945d-92bc-46cb-aaf1-6e2ae319dc24"
      },
      "execution_count": null,
      "outputs": [
        {
          "output_type": "stream",
          "name": "stdout",
          "text": [
            "**Pré-1950: Fundamentos**\n",
            "\n",
            "* Século XVII: Cálculo, lógica simbólica e máquinas calculadoras\n",
            "* Século XIX: Máquinas analíticas e lógicas de Boole\n",
            "\n",
            "**Década de 1950: Nascimento da IA**\n",
            "\n",
            "* 1950: Teste de Turing\n",
            "* 1956: Conferência de Dartmouth (termo \"Inteligência Artificial\" cunhado)\n",
            "\n",
            "**Década de 1960: Primeiros Avanços**\n",
            "\n",
            "* Sistemas especialistas (DENDRAL, MYCIN)\n",
            "* Redes neurais (Perceptron)\n",
            "* Processamento de linguagem natural (ELIZA)\n",
            "\n",
            "**Década de 1970: Inverno da IA**\n",
            "\n",
            "* Limitações das abordagens simbólicas\n",
            "* Falta de poder computacional\n",
            "\n",
            "**Década de 1980: Renascimento da IA**\n",
            "\n",
            "* Sistemas especialistas de sucesso\n",
            "* Avanços em redes neurais (backpropagation)\n",
            "\n",
            "**Década de 1990: IA na Internet**\n",
            "\n",
            "* Motores de busca (Google)\n",
            "* Reconhecimento de fala e imagem\n",
            "\n",
            "**Século XXI: IA Moderna**\n",
            "\n",
            "* Aprendizado de máquina (SVM, árvores de decisão)\n",
            "* Aprendizado profundo (redes neurais convolucionais, redes neurais recorrentes)\n",
            "* IA em todas as indústrias (automação, saúde, finanças)\n",
            "* Preocupações éticas e sociais (viés, desemprego)\n"
          ]
        }
      ]
    },
    {
      "cell_type": "markdown",
      "source": [
        "Iniciando o modelo de chat"
      ],
      "metadata": {
        "id": "hP0Pib-LUpTw"
      }
    },
    {
      "cell_type": "code",
      "source": [
        "chat = model.start_chat(history=[])"
      ],
      "metadata": {
        "id": "ekpqj1zdUUs8"
      },
      "execution_count": null,
      "outputs": []
    },
    {
      "cell_type": "code",
      "source": [
        "prompt = input(\"Esperando prompt: \")\n",
        "\n",
        "while prompt != \"fim\":\n",
        "  response = chat.send_message(prompt)\n",
        "  print(\"Resposta: \", response.text, \"\\n\")\n",
        "  prompt = input(\"Esperando prompt: \")"
      ],
      "metadata": {
        "colab": {
          "base_uri": "https://localhost:8080/"
        },
        "id": "OKrLFZEcUtjS",
        "outputId": "da3b34e5-232b-4e9b-89e7-110388f71ce0"
      },
      "execution_count": null,
      "outputs": [
        {
          "metadata": {
            "tags": null
          },
          "name": "stdout",
          "output_type": "stream",
          "text": [
            "Resposta:  Não tenho acesso a informações em tempo real, portanto não posso fornecer uma previsão do tempo precisa. Recomendo verificar fontes meteorológicas confiáveis, como o site do Instituto Nacional de Meteorologia (INMET) ou aplicativos de previsão do tempo, para obter as informações mais atualizadas sobre as condições meteorológicas. \n",
            "\n"
          ]
        }
      ]
    },
    {
      "cell_type": "code",
      "source": [
        "chat.history"
      ],
      "metadata": {
        "colab": {
          "base_uri": "https://localhost:8080/"
        },
        "id": "RTTWKpisYp-2",
        "outputId": "4fd05cad-872a-4177-a016-ea5154e54af5"
      },
      "execution_count": null,
      "outputs": [
        {
          "output_type": "execute_result",
          "data": {
            "text/plain": [
              "[parts {\n",
              "   text: \"Qual a capital dos estados unidos?\"\n",
              " }\n",
              " role: \"user\",\n",
              " parts {\n",
              "   text: \"Washington, D.C.\"\n",
              " }\n",
              " role: \"model\",\n",
              " parts {\n",
              "   text: \"Qual \\303\\251 a comida t\\303\\255pica desse pa\\303\\255s?\"\n",
              " }\n",
              " role: \"user\",\n",
              " parts {\n",
              "   text: \"Hamb\\303\\272rguer\\n\\nOutros pratos t\\303\\255picos dos Estados Unidos incluem:\\n\\n* Pizza\\n* Batatas fritas\\n* Frango frito\\n* Tacos\\n* Chili\\n* Macarr\\303\\243o com queijo\\n* Torta de ma\\303\\247\\303\\243\\n* Bolo de chocolate\"\n",
              " }\n",
              " role: \"model\",\n",
              " parts {\n",
              "   text: \"o meu primo nasceu nessa cidade, qual \\303\\251 a nacionalidade dele?\"\n",
              " }\n",
              " role: \"user\",\n",
              " parts {\n",
              "   text: \"Americana\\n\\nComo seu primo nasceu em Washington, D.C., que \\303\\251 a capital dos Estados Unidos, ele tem nacionalidade americana.\"\n",
              " }\n",
              " role: \"model\",\n",
              " parts {\n",
              "   text: \"e qual \\303\\251 a popula\\303\\247\\303\\243o dessa cidade?\"\n",
              " }\n",
              " role: \"user\",\n",
              " parts {\n",
              "   text: \"689.545 (estimativa de 2022)\\n\\nA popula\\303\\247\\303\\243o de Washington, D.C. tem diminu\\303\\255do nos \\303\\272ltimos anos, mas continua sendo a 20\\302\\252 cidade mais populosa dos Estados Unidos.\"\n",
              " }\n",
              " role: \"model\"]"
            ]
          },
          "metadata": {},
          "execution_count": 14
        }
      ]
    },
    {
      "cell_type": "code",
      "source": [
        "import textwrap\n",
        "from IPython.display import Markdown\n",
        "from textwrap import indent\n",
        "\n",
        "def to_markdown(text):\n",
        "\n",
        "  # Substitui todos os pontos (.) no texto por uma quebra de linha.\n",
        "  text = text.replace(\".\", \"\\n\")\n",
        "\n",
        "  # Indenta o texto usando a função textwrap.indent().\n",
        "  text = indent(text, \"    \")\n",
        "\n",
        "  # Envolve o texto recuado em um bloco Markdown usando a função Markdown() da biblioteca IPython.display.\n",
        "  return Markdown(text)\n"
      ],
      "metadata": {
        "id": "qia16--iX8TG"
      },
      "execution_count": null,
      "outputs": []
    }
  ]
}